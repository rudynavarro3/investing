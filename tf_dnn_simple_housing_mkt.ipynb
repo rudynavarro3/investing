{
 "cells": [
  {
   "cell_type": "code",
   "execution_count": null,
   "id": "83842d91-1902-48fa-a215-78a9411ff97b",
   "metadata": {},
   "outputs": [],
   "source": [
    "import tensorflow as tf\n",
    "from matplotlib import pyplot as plt\n",
    "import numpy as np\n",
    "import pandas as pd\n",
    "import pandasql as ps\n",
    "import glob\n",
    "import os\n",
    "\n",
    "from tensorflow.keras import Sequential\n",
    "from tensorflow.keras.layers import Flatten, Dense"
   ]
  },
  {
   "cell_type": "code",
   "execution_count": null,
   "id": "0f928736-4f06-488c-9b12-90a583a5d36a",
   "metadata": {},
   "outputs": [],
   "source": [
    "path = '/datasets/real-estate-stillwater_20241001/'\n",
    "all_files = glob.glob(os.path.join(path, \"*.csv\"))\n",
    "df = pd.concat((pd.read_csv(f) for f in all_files), ignore_index=True)"
   ]
  },
  {
   "cell_type": "code",
   "execution_count": null,
   "id": "5fd0f6e9-ac10-4da9-81f2-2b2590330f9f",
   "metadata": {},
   "outputs": [],
   "source": [
    "!ls /datasets/real-estate-stillwater_20241001/"
   ]
  },
  {
   "cell_type": "code",
   "execution_count": null,
   "id": "5849e69f-00bc-400f-b8aa-a762d259b691",
   "metadata": {},
   "outputs": [],
   "source": [
    "df.shape"
   ]
  },
  {
   "cell_type": "code",
   "execution_count": null,
   "id": "1d5d3fec-a454-4034-9a42-5a4baef9378f",
   "metadata": {},
   "outputs": [],
   "source": [
    "q1 = \"\"\"SELECT sold_price FROM df ORDER BY 1 DESC LIMIT 100\"\"\"\n",
    "print(ps.sqldf(q1, locals()))\n"
   ]
  },
  {
   "cell_type": "code",
   "execution_count": null,
   "id": "0dc8e180-f18f-4979-b34e-69f1ada4e77e",
   "metadata": {},
   "outputs": [],
   "source": [
    "# Filter out everything but sold houses\n",
    "df_sold = df.loc[df['status'] == 'SOLD']\n",
    "\n",
    "\n",
    "# Drop rows will nulls\n",
    "df_sold = df_sold.dropna(axis=0, subset=['lot_sqft','sold_price'])\n",
    "\n",
    "# Drop outliers\n",
    "df_sold.drop(df_sold[df_sold.lot_sqft > 1.5e7].index, inplace=True)\n",
    "df_sold.drop(df_sold[df_sold.sold_price > 1.5e7].index, inplace=True)\n",
    "\n",
    "# Normalize Price\n",
    "print(f\"Max home price: {max(df_sold['sold_price'])}\")\n",
    "df_sold['sold_price'] = df_sold['sold_price']/max(df_sold['sold_price'])\n",
    "\n",
    "# Normalize lot size\n",
    "print(f\"Max lot size: {max(df_sold['lot_sqft'])}\")\n",
    "df_sold['lot_sqft'] = df_sold['lot_sqft']/max(df_sold['lot_sqft'])"
   ]
  },
  {
   "cell_type": "code",
   "execution_count": null,
   "id": "fee36574-b653-40f9-bcf8-d482d93ec95e",
   "metadata": {},
   "outputs": [],
   "source": [
    "df.columns"
   ]
  },
  {
   "cell_type": "code",
   "execution_count": null,
   "id": "df956f99-19b9-4a31-be12-fe18442c35a4",
   "metadata": {},
   "outputs": [],
   "source": [
    "col_train = ['lot_sqft']\n",
    "col_label = ['sold_price']\n",
    "train_cols = col_train + col_label\n",
    "\n",
    "df_train = df_sold[train_cols]\n",
    "# df_train.head()"
   ]
  },
  {
   "cell_type": "code",
   "execution_count": null,
   "id": "322fd924-e75b-40d0-846f-144b6f62002a",
   "metadata": {},
   "outputs": [],
   "source": [
    "df_exp = df_sold[train_cols]\n",
    "df_exp = df_exp.dropna(axis=0, subset=train_cols)"
   ]
  },
  {
   "cell_type": "code",
   "execution_count": null,
   "id": "c962e750-d93c-4a05-a6a2-9a1c2f5b73d9",
   "metadata": {},
   "outputs": [],
   "source": [
    "msk = np.random.rand(len(df_exp)) < 0.8\n",
    "\n",
    "(training_data, training_labels) = df_exp[col_train][msk], df_exp[col_label][msk]\n",
    "(test_data, test_labels) = df_exp[col_train][~msk], df_exp[col_label][~msk]"
   ]
  },
  {
   "cell_type": "code",
   "execution_count": null,
   "id": "056e7440-81be-4c9a-a47a-c0707d974117",
   "metadata": {},
   "outputs": [],
   "source": []
  },
  {
   "cell_type": "code",
   "execution_count": null,
   "id": "0a5c216a-d3c9-41c8-9247-4335302f2a14",
   "metadata": {},
   "outputs": [],
   "source": [
    "l0 = Dense(units=1, input_shape=[1])\n",
    "# model = Sequential([l0])\n",
    "model = Sequential([\n",
    "    Flatten(input_shape=(1, 1)),\n",
    "    Dense(1, activation=tf.nn.relu),\n",
    "    Dense(1, activation=tf.nn.softmax)\n",
    "])\n",
    "model.compile(optimizer='sgd', loss='mean_squared_error')"
   ]
  },
  {
   "cell_type": "code",
   "execution_count": null,
   "id": "be9ca73b-a5e6-4219-8aea-223df93a561a",
   "metadata": {},
   "outputs": [],
   "source": [
    "# class acc_callback(tf.keras.callbacks.Callback):\n",
    "#     def on_epoch_end(self, epoch, logs={}):\n",
    "#         if(logs.get('accuracy') > 0.98):\n",
    "#            print(\"\\nReached 98% accuracy, stopping training\")\n",
    "#            self.model.stop_training = True\n",
    "# callback = acc_callback()\n",
    "\n",
    "# model.fit(training_data, training_labels, epochs=5, callbacks=[callback])\n",
    "model.fit(training_data, training_labels, epochs=5)"
   ]
  },
  {
   "cell_type": "code",
   "execution_count": null,
   "id": "b953de63-774b-4a16-b204-5e45cf409cd5",
   "metadata": {},
   "outputs": [],
   "source": [
    "model.evaluate(test_data, test_labels)"
   ]
  },
  {
   "cell_type": "code",
   "execution_count": null,
   "id": "e323ff32-eb40-40e6-9561-23c4fc7e75b9",
   "metadata": {},
   "outputs": [],
   "source": [
    "classifications = model.predict(test_data)\n",
    "print(classifications)\n",
    "print(test_labels)\n"
   ]
  },
  {
   "cell_type": "code",
   "execution_count": null,
   "id": "bea9ee47-0f57-4fcf-b507-fc3ed49fd218",
   "metadata": {},
   "outputs": [],
   "source": []
  },
  {
   "cell_type": "code",
   "execution_count": null,
   "id": "046d3bf7-bff2-4360-8812-681829692f0b",
   "metadata": {},
   "outputs": [],
   "source": [
    "# model = tf.keras.models.Sequential([\n",
    "#     tf.keras.layers.Flatten(input_shape=(1, 1)),\n",
    "#     tf.keras.layers.Dense(1, activation=tf.nn.relu),\n",
    "#     tf.keras.layers.Dense(1, activation=tf.nn.softmax)\n",
    "# ])"
   ]
  },
  {
   "cell_type": "code",
   "execution_count": null,
   "id": "87e7bbbf-602a-4184-a836-f64364179a47",
   "metadata": {},
   "outputs": [],
   "source": [
    "# class acc_callback(tf.keras.callbacks.Callback):\n",
    "#     def on_epoch_end(self, epoch, logs={}):\n",
    "#         if(logs.get('accuracy') > 0.92):\n",
    "#            print(\"\\nReached 92% accuracy, stopping training\")\n",
    "#            self.model.stop_training = True\n",
    "# callback = acc_callback()"
   ]
  },
  {
   "cell_type": "code",
   "execution_count": null,
   "id": "82c29165-15d1-457c-a959-e2dafaccd879",
   "metadata": {},
   "outputs": [],
   "source": [
    "# model.fit(training_data, training_labels, epochs=5, callbacks=[callback])"
   ]
  },
  {
   "cell_type": "code",
   "execution_count": null,
   "id": "8af1999a-0732-4495-9514-1ad481f33a74",
   "metadata": {},
   "outputs": [],
   "source": [
    "# model.compile(optimizer='adam',\n",
    "#                 loss='sparse_categorical_crossentropy',\n",
    "#                 metrics=['accuracy'])"
   ]
  },
  {
   "cell_type": "code",
   "execution_count": null,
   "id": "dd1f1e71-43db-4170-ba02-1197cc71daa3",
   "metadata": {},
   "outputs": [],
   "source": []
  },
  {
   "cell_type": "code",
   "execution_count": null,
   "id": "c6f36992-f463-4f1d-94f0-ba1f16554592",
   "metadata": {},
   "outputs": [],
   "source": []
  },
  {
   "cell_type": "code",
   "execution_count": null,
   "id": "cbbc5c54-b859-4b00-9cf4-795f7cec507b",
   "metadata": {},
   "outputs": [],
   "source": []
  },
  {
   "cell_type": "code",
   "execution_count": null,
   "id": "b4f68994-f23d-4ea1-a224-a0011015ad69",
   "metadata": {},
   "outputs": [],
   "source": []
  },
  {
   "cell_type": "code",
   "execution_count": null,
   "id": "ce596f5c-8edc-446b-8ed7-d50591aef482",
   "metadata": {},
   "outputs": [],
   "source": [
    "\n",
    "plt.scatter(df['last_sold_date'], df['sold_price']/1000)\n",
    "plt.show()"
   ]
  },
  {
   "cell_type": "code",
   "execution_count": null,
   "id": "d33bc811-248b-45fb-9b06-3b2716a6d693",
   "metadata": {},
   "outputs": [],
   "source": []
  }
 ],
 "metadata": {
  "kernelspec": {
   "display_name": "Python 3 (ipykernel)",
   "language": "python",
   "name": "python3"
  },
  "language_info": {
   "codemirror_mode": {
    "name": "ipython",
    "version": 3
   },
   "file_extension": ".py",
   "mimetype": "text/x-python",
   "name": "python",
   "nbconvert_exporter": "python",
   "pygments_lexer": "ipython3",
   "version": "3.11.7"
  }
 },
 "nbformat": 4,
 "nbformat_minor": 5
}
